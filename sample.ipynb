{
 "cells": [
  {
   "cell_type": "code",
   "execution_count": null,
   "metadata": {},
   "outputs": [],
   "source": [
    "# Use Azure Machine Learning history magic to control history collection\n",
    "# History is off by default, options are \"on\", \"off\", or \"show\"\n",
    "%azureml history on\n",
    "\n",
    "# Use the Azure Machine Learning data collector to log various metrics\n",
    "from azureml.logging import get_azureml_logger\n",
    "import os\n",
    "\n",
    "logger = get_azureml_logger()\n",
    "\n",
    "# Log cell runs into run history\n",
    "logger.log('Cell','Set up run')"
   ]
  },
  {
   "cell_type": "code",
   "execution_count": null,
   "metadata": {},
   "outputs": [],
   "source": [
    "logger.log('Cell','Plot data')\n",
    "\n",
    "# Use matplotlib for plotting\n",
    "%matplotlib inline\n",
    "import matplotlib.pyplot as plt\n",
    "\n",
    "x = range(0,10)\n",
    "y = [elem**2 for elem in x]\n",
    "\n",
    "fig = plt.figure(figsize=(6, 4), dpi=75)\n",
    "plt.plot(x,y)\n",
    "plt.show()"
   ]
  },
  {
   "cell_type": "code",
   "execution_count": null,
   "metadata": {},
   "outputs": [],
   "source": [
    "# Save plot and upload it to run history by cell magic for later use\n",
    "logger.log('Cell','Save plot')\n",
    "fig.savefig(os.path.join('outputs','curve.png'))\n",
    "%azureml upload outputs/curve.png"
   ]
  },
  {
   "cell_type": "code",
   "execution_count": null,
   "metadata": {},
   "outputs": [],
   "source": [
    "# Log a metric from cell run\n",
    "logger.log('Cell','Compute average')\n",
    "logger.log('Average of x',sum(x)/len(x))"
   ]
  }
 ],
 "metadata": {
  "kernelspec": {
   "display_name": "NotebookProject local",
   "language": "python",
   "name": "notebookproject_local"
  },
  "language_info": {
   "codemirror_mode": {
    "name": "ipython",
    "version": 3
   },
   "file_extension": ".py",
   "mimetype": "text/x-python",
   "name": "python",
   "nbconvert_exporter": "python",
   "pygments_lexer": "ipython3",
   "version": "3.5.2"
  }
 },
 "nbformat": 4,
 "nbformat_minor": 2
}
